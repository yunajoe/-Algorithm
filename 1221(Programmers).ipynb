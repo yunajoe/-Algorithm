{
 "cells": [
  {
   "cell_type": "code",
   "execution_count": null,
   "id": "68395e9d",
   "metadata": {},
   "outputs": [],
   "source": [
    "# 핸드폰 번호 가리기\n",
    "\n",
    "def solution(phone_number):\n",
    "    answer = ''\n",
    "    digit = len(phone_number)-4\n",
    "    digit = digit * \"*\"\n",
    "    answer = digit + phone_number[-1:-5:-1]\n",
    "    return answer"
   ]
  },
  {
   "cell_type": "code",
   "execution_count": null,
   "id": "fbac9af9",
   "metadata": {},
   "outputs": [],
   "source": [
    "phone_number     return\n",
    "\"01033334444\"   \"*******4444\"\n",
    "\"027778888\"     \"*****8888\""
   ]
  },
  {
   "cell_type": "code",
   "execution_count": null,
   "id": "eec49ceb",
   "metadata": {},
   "outputs": [],
   "source": [
    "# 콜라츠 추측 \n",
    "\n",
    "def solution(num):\n",
    "    answer = 0\n",
    "    \n",
    "    while answer <=500:\n",
    "        answer = answer + 1\n",
    "        if num % 2 ==0:\n",
    "            num = num/2\n",
    "            if num == 1:\n",
    "                break\n",
    "        else:\n",
    "            num = (num*3) + 1\n",
    "            if num == 1:\n",
    "                break\n",
    "        \n",
    "    else:\n",
    "        return -1\n",
    "        \n",
    "    return answer"
   ]
  },
  {
   "cell_type": "code",
   "execution_count": null,
   "id": "b9042407",
   "metadata": {},
   "outputs": [],
   "source": [
    "n    result\n",
    "6      8\n",
    "16     4\n",
    "626331 -1"
   ]
  },
  {
   "cell_type": "code",
   "execution_count": null,
   "id": "196773d7",
   "metadata": {},
   "outputs": [],
   "source": []
  }
 ],
 "metadata": {
  "kernelspec": {
   "display_name": "Python 3",
   "language": "python",
   "name": "python3"
  },
  "language_info": {
   "codemirror_mode": {
    "name": "ipython",
    "version": 3
   },
   "file_extension": ".py",
   "mimetype": "text/x-python",
   "name": "python",
   "nbconvert_exporter": "python",
   "pygments_lexer": "ipython3",
   "version": "3.8.8"
  }
 },
 "nbformat": 4,
 "nbformat_minor": 5
}

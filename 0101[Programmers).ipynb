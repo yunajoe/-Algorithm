{
 "cells": [
  {
   "cell_type": "code",
   "execution_count": 89,
   "id": "6bd76909",
   "metadata": {},
   "outputs": [
    {
     "name": "stdout",
     "output_type": "stream",
     "text": [
      "-9\n"
     ]
    }
   ],
   "source": [
    "# 음양더하기 (1) \n",
    "\n",
    "# signs의 값대로 absolute가 +, - 일단 확인 \n",
    "# true이면 absolute의 그대로 ... \n",
    "# false 이면 부호가 반대인 수 그대로 나온다 \n",
    "\n",
    "\n",
    "a = [4,7,12]\n",
    "s = [True,False,True]\n",
    "\n",
    "sum = 0 \n",
    "for i in range(len(a)):\n",
    "    for j in range(len(s)):\n",
    "        if i == j:\n",
    "            if j == True:\n",
    "                answer = a[i]\n",
    "            else:\n",
    "                answer = -a[i]        \n",
    "    sum = sum + answer\n",
    "print(sum)\n",
    "                \n",
    "# 왜 마이너스 9가 나오는가.........................\n",
    "            \n",
    "           \n",
    "      \n",
    "\n",
    "           \n",
    "            \n",
    "            \n",
    "    "
   ]
  },
  {
   "cell_type": "code",
   "execution_count": null,
   "id": "7b66c084",
   "metadata": {},
   "outputs": [],
   "source": [
    "# 음양더하기 (2) \n",
    "\n",
    "def solution(absolutes, signs):\n",
    "    answer = 0 \n",
    "    for i in range(len(absolutes)):\n",
    "        if signs[i] == True:\n",
    "            number = absolutes[i]\n",
    "        else:\n",
    "            number = -absolutes[i]\n",
    "        answer = answer + number\n",
    "    \n",
    "    return answer"
   ]
  },
  {
   "cell_type": "code",
   "execution_count": null,
   "id": "5d4e3923",
   "metadata": {},
   "outputs": [],
   "source": [
    "absolutes   signs              result\n",
    "[4,7,12]   [true,false,true]    9\n",
    "[1,2,3]   [false,false,true]     0"
   ]
  }
 ],
 "metadata": {
  "kernelspec": {
   "display_name": "Python 3",
   "language": "python",
   "name": "python3"
  },
  "language_info": {
   "codemirror_mode": {
    "name": "ipython",
    "version": 3
   },
   "file_extension": ".py",
   "mimetype": "text/x-python",
   "name": "python",
   "nbconvert_exporter": "python",
   "pygments_lexer": "ipython3",
   "version": "3.8.8"
  }
 },
 "nbformat": 4,
 "nbformat_minor": 5
}

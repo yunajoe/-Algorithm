{
 "cells": [
  {
   "cell_type": "code",
   "execution_count": 47,
   "id": "2b13da32",
   "metadata": {},
   "outputs": [
    {
     "name": "stdout",
     "output_type": "stream",
     "text": [
      "filipa\n",
      "josipa\n",
      "marina\n",
      "nikola\n"
     ]
    },
    {
     "data": {
      "text/plain": [
       "'vinko'"
      ]
     },
     "execution_count": 47,
     "metadata": {},
     "output_type": "execute_result"
    }
   ],
   "source": [
    "# 완주하지 못한 선수 \n",
    "participant=[\"marina\", \"josipa\", \"nikola\", \"vinko\", \"filipa\"]\n",
    "completion= [\"josipa\", \"filipa\", \"marina\", \"nikola\"]\n",
    "\n",
    "new1 = sorted(participant)\n",
    "new2 = sorted(completion)\n",
    "\n",
    "dic ={}\n",
    "for i in range(len(new1)):\n",
    "    if new1[i] in new2:\n",
    "        print(new1[i])\n",
    "    else:\n",
    "        dic[i] = new1[i]\n",
    "answer = list(dic.values())\n",
    "final = \"\".join(answer)\n",
    "final"
   ]
  },
  {
   "cell_type": "code",
   "execution_count": 69,
   "id": "78435f40",
   "metadata": {},
   "outputs": [
    {
     "data": {
      "text/plain": [
       "'mislav'"
      ]
     },
     "execution_count": 69,
     "metadata": {},
     "output_type": "execute_result"
    }
   ],
   "source": [
    "# 완주하지 못한 선수 (2) for로 풀기.. \n",
    "\n",
    "participant= [\"mislav\", \"stanko\", \"mislav\", \"ana\"]\n",
    "completion= [\"stanko\", \"ana\", \"mislav\"]\n",
    "participant.sort()\n",
    "completion.sort()\n",
    "\n",
    "answer =[]\n",
    "for i in range(len(completion)): \n",
    "    if(participant[i] != completion[i]):  # completion 길이 만큼 선수를 비교한다\n",
    "        a= participant[i]\n",
    "        answer.append(a)\n",
    "    if participant[-1] not in completion:\n",
    "        answer.append(participant[-1])\n",
    "answer = list(set(answer))\n",
    "\"\".join(answer)\n",
    "\n"
   ]
  },
  {
   "cell_type": "code",
   "execution_count": null,
   "id": "b60c6c28",
   "metadata": {},
   "outputs": [],
   "source": [
    "# 완주하지 못한 선수 (3) Hash로 풀기...실패!\n",
    "\n",
    "# HashMap이란 Key-Value의 Pair를 관리하는 클라쓰 \n",
    "# key는 인덱스 value는 사람이름 "
   ]
  },
  {
   "cell_type": "code",
   "execution_count": 106,
   "id": "740fbe0a",
   "metadata": {},
   "outputs": [
    {
     "data": {
      "text/plain": [
       "'stanko'"
      ]
     },
     "execution_count": 106,
     "metadata": {},
     "output_type": "execute_result"
    }
   ],
   "source": [
    "# participant 인덱스값의 합이랑 completion 인덱스 값의 합을 비교 \n",
    "\n",
    "participant=[\"mislav\", \"stanko\", \"mislav\", \"ana\"]\n",
    "completion= [\"stanko\", \"ana\", \"mislav\"]\n",
    "participant.sort()\n",
    "completion.sort()\n",
    "\n",
    "\n",
    "dic_p = {}\n",
    "dic_c= {}\n",
    "for idx, p in enumerate(participant, start=1):\n",
    "    dic_p[idx*10] = p\n",
    "key_p = list(dic_p.keys()) # 10, 20, 30, 40, 50.. \n",
    "\n",
    "\n",
    "\n",
    "for idx, c in enumerate(completion, start=1):\n",
    "    dic_c[idx*10] = c\n",
    "key_c = list(dic_c.keys())\n",
    "key_c    \n",
    "\n",
    "answer = 0    \n",
    "answer2 = 0\n",
    "for num in dic_p.keys():\n",
    "    answer = answer + num\n",
    "for num2 in dic_c.keys():\n",
    "    answer2 = answer2 + num2\n",
    "    final = answer - answer2\n",
    "\n",
    "dic_p[final]\n",
    "        \n",
    "   \n",
    "  \n",
    "    \n",
    "\n",
    "    "
   ]
  },
  {
   "cell_type": "code",
   "execution_count": null,
   "id": "cb8d7133",
   "metadata": {},
   "outputs": [],
   "source": []
  }
 ],
 "metadata": {
  "kernelspec": {
   "display_name": "Python 3",
   "language": "python",
   "name": "python3"
  },
  "language_info": {
   "codemirror_mode": {
    "name": "ipython",
    "version": 3
   },
   "file_extension": ".py",
   "mimetype": "text/x-python",
   "name": "python",
   "nbconvert_exporter": "python",
   "pygments_lexer": "ipython3",
   "version": "3.8.8"
  }
 },
 "nbformat": 4,
 "nbformat_minor": 5
}

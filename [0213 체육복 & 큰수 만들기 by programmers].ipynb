{
 "cells": [
  {
   "cell_type": "code",
   "execution_count": null,
   "id": "030a56fe",
   "metadata": {},
   "outputs": [],
   "source": [
    "# 체육복  성공!!\n",
    "\n",
    "def solution(n, lost, reserve):\n",
    "    answer = 0\n",
    "    lost2 = set(lost) - set(reserve)  # 잃어버린 사람 (여유분 X) \n",
    "    reserve2 = set(reserve) - set(lost) # 여유분 있는 사람 (잃어버리지 X)\n",
    "    \n",
    "    for i in reserve2:\n",
    "        if i-1 in lost2:\n",
    "            lost2.remove(i-1)\n",
    "            \n",
    "        elif i+1 in lost2:\n",
    "            lost2.remove(i+1)\n",
    "    answer = n - len(lost2)\n",
    "                \n",
    "    return answer"
   ]
  },
  {
   "cell_type": "code",
   "execution_count": null,
   "id": "cbe810af",
   "metadata": {},
   "outputs": [],
   "source": [
    "# 큰 수 만들기 실패!!!\n",
    "#  number에서 k 개의 수를 제거했을 때 만들 수 있는 수 중 가장 큰 숫자를 문자열 형태\n",
    "#  k < len(number)\n",
    "# number 를 오름차순으로 정렬 \n",
    "\n",
    "def solution(number, k):\n",
    "    \n",
    "    number = sorted(number)\n",
    "    number = number[k:]\n",
    "    answer = sorted(number, reverse = True)\n",
    "    answer = \"\".join(answer)\n",
    "    return answer"
   ]
  }
 ],
 "metadata": {
  "kernelspec": {
   "display_name": "Python 3",
   "language": "python",
   "name": "python3"
  },
  "language_info": {
   "codemirror_mode": {
    "name": "ipython",
    "version": 3
   },
   "file_extension": ".py",
   "mimetype": "text/x-python",
   "name": "python",
   "nbconvert_exporter": "python",
   "pygments_lexer": "ipython3",
   "version": "3.8.8"
  }
 },
 "nbformat": 4,
 "nbformat_minor": 5
}

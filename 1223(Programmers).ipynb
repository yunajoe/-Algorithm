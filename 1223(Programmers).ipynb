{
 "cells": [
  {
   "cell_type": "code",
   "execution_count": 17,
   "id": "b58f4771",
   "metadata": {},
   "outputs": [
    {
     "name": "stdout",
     "output_type": "stream",
     "text": [
      "5 3\n",
      "*****\n",
      "*****\n",
      "*****\n"
     ]
    }
   ],
   "source": [
    "# 직사각형 별찍기\n",
    "\n",
    "a, b = map(int, input().strip().split(\" \"))       # input() 은 문자열로 반환   # split(\" \")은 공백으로 분리하면서 list로 만들어주기\n",
    "                                         # map으로 그걸 다시 묶어서 int로 반환 한다...\n",
    "for i in range(1, b+1): # b가 3이면은 i는  1, 2, 3....(즉, row가 3줄)\n",
    "    print(a*\"*\")"
   ]
  },
  {
   "cell_type": "code",
   "execution_count": 1,
   "id": "07b18d4e",
   "metadata": {
    "scrolled": false
   },
   "outputs": [
    {
     "name": "stdout",
     "output_type": "stream",
     "text": [
      "5 3\n",
      "*****\n",
      "*****\n",
      "*****\n"
     ]
    }
   ],
   "source": [
    "# 직사각형 별찍기 (2)\n",
    "a, b = map(int, input().strip().split(' '))\n",
    "for i in range(b):            \n",
    "    for j in range(a):        \n",
    "        print(\"*\", end = \"\") # end본적으로 출력하는 값 끝에 \\n을 붙이기 때문에 \n",
    "    print()\n",
    " \n",
    "    "
   ]
  },
  {
   "cell_type": "code",
   "execution_count": null,
   "id": "2596256f",
   "metadata": {},
   "outputs": [],
   "source": [
    "# 서울에서 김서방 찾기 \n",
    "def solution(seoul):\n",
    "    answer = ''\n",
    "       \n",
    "    for i in range(len(seoul)):\n",
    "        if seoul[i] == \"Kim\":\n",
    "            answer = \"김서방은 \" + str(i) + \"에 있다\"\n",
    "    return answer"
   ]
  },
  {
   "cell_type": "code",
   "execution_count": null,
   "id": "8572dbd1",
   "metadata": {},
   "outputs": [],
   "source": [
    "seoul           return\n",
    "[\"Jane\", \"Kim\"] \"김서방은 1에 있다\""
   ]
  }
 ],
 "metadata": {
  "kernelspec": {
   "display_name": "Python 3",
   "language": "python",
   "name": "python3"
  },
  "language_info": {
   "codemirror_mode": {
    "name": "ipython",
    "version": 3
   },
   "file_extension": ".py",
   "mimetype": "text/x-python",
   "name": "python",
   "nbconvert_exporter": "python",
   "pygments_lexer": "ipython3",
   "version": "3.8.8"
  }
 },
 "nbformat": 4,
 "nbformat_minor": 5
}

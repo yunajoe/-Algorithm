{
 "cells": [
  {
   "cell_type": "code",
   "execution_count": 65,
   "id": "2401e6ed",
   "metadata": {},
   "outputs": [],
   "source": [
    "# 수강신청 \n",
    "# 가능한 많은 수업듣기.. >> 즉, 빨리 끝나는 수업들을 듣기 \n",
    "\n",
    "def course_selection(course_list):\n",
    "    sorted_list = sorted(course_list, key=lambda x: x[1])\n",
    "    \n",
    "    first = [sorted_list[0]] # (1,3)\n",
    "    \n",
    "\n",
    "    for course in sorted_list:\n",
    "        if course[0] > first[1]:\n",
    "            first.append(course)\n",
    "            \n",
    "    return first\n",
    "    \n",
    "\n",
    "    \n"
   ]
  },
  {
   "cell_type": "code",
   "execution_count": 63,
   "id": "37b4c099",
   "metadata": {},
   "outputs": [],
   "source": [
    "def course_selection(course_list):\n",
    "    sorted_list = sorted(course_list, key=lambda x: x[1])\n",
    "    \n",
    "    first = [sorted_list[0]] # (1,3)\n",
    "    \n",
    "    return first[-1][1]"
   ]
  },
  {
   "cell_type": "code",
   "execution_count": 64,
   "id": "e6ec0ac6",
   "metadata": {},
   "outputs": [
    {
     "name": "stdout",
     "output_type": "stream",
     "text": [
      "3\n"
     ]
    }
   ],
   "source": [
    "print(course_selection([(4, 7), (2, 5), (1, 3), (8, 10), (5, 9), (2, 6), (13, 16), (9, 11), (1, 8)]))"
   ]
  },
  {
   "cell_type": "code",
   "execution_count": null,
   "id": "bfbbbec7",
   "metadata": {},
   "outputs": [],
   "source": []
  }
 ],
 "metadata": {
  "kernelspec": {
   "display_name": "Python 3",
   "language": "python",
   "name": "python3"
  },
  "language_info": {
   "codemirror_mode": {
    "name": "ipython",
    "version": 3
   },
   "file_extension": ".py",
   "mimetype": "text/x-python",
   "name": "python",
   "nbconvert_exporter": "python",
   "pygments_lexer": "ipython3",
   "version": "3.8.8"
  }
 },
 "nbformat": 4,
 "nbformat_minor": 5
}

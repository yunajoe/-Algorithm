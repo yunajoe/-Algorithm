{
 "cells": [
  {
   "cell_type": "code",
   "execution_count": null,
   "id": "ee803681",
   "metadata": {},
   "outputs": [],
   "source": [
    "# arr 의 길이가 1이면은 무조건 -1을 리턴한다. \n",
    "# 1이상이면 리스트에서 가장 작은 min을 찾고 제거를 한다. 그런다음에 나머지를 return 한다. \n",
    "\n",
    "def solution(arr):\n",
    "    answer = []\n",
    "    if len(arr) > 2:\n",
    "        Min_Num = min(arr)\n",
    "        arr.remove(Min_Num)   \n",
    "        return arr     \n",
    "    else:\n",
    "        answer.append(-1)\n",
    "        return answer"
   ]
  },
  {
   "cell_type": "code",
   "execution_count": null,
   "id": "8f6e77f6",
   "metadata": {},
   "outputs": [],
   "source": [
    "arr       return\n",
    "[4,3,2,1] [4,3,2]\n",
    "[10]      [-1]"
   ]
  },
  {
   "cell_type": "code",
   "execution_count": null,
   "id": "a54adfad",
   "metadata": {},
   "outputs": [],
   "source": [
    "# 자릿수더하기\n",
    "\n",
    "\n",
    "def solution(n):\n",
    "    answer = 0\n",
    "    \n",
    "    for i in str(n):\n",
    "        i = int(i)\n",
    "        answer = answer + i        \n",
    "\n",
    "   \n",
    "    return answer"
   ]
  },
  {
   "cell_type": "code",
   "execution_count": null,
   "id": "77b2b5cc",
   "metadata": {},
   "outputs": [],
   "source": [
    "n   return\n",
    "118372 873211"
   ]
  },
  {
   "cell_type": "code",
   "execution_count": null,
   "id": "d31284fe",
   "metadata": {},
   "outputs": [],
   "source": [
    "# 정수 내림차순 배치하기 \n",
    "\n",
    "def solution(n):\n",
    "    answer = 0\n",
    "    answer = str(n)\n",
    "    answer = sorted(answer, reverse = True)\n",
    "    answer = int(\"\".join(answer))           \n",
    "    return answer"
   ]
  },
  {
   "cell_type": "code",
   "execution_count": null,
   "id": "132ee38c",
   "metadata": {},
   "outputs": [],
   "source": [
    "n   return\n",
    "118372 873211"
   ]
  },
  {
   "cell_type": "code",
   "execution_count": null,
   "id": "3644a1bd",
   "metadata": {},
   "outputs": [],
   "source": [
    "# 자연수 뒤집어 배열로 만들기\n",
    "\n",
    "\n",
    "def solution(n):\n",
    "    answer = []\n",
    "    \n",
    "    for i in str(n):       \n",
    "        answer.append(int(i))\n",
    "        answer.sort(reverse = True)\n",
    "    "
   ]
  },
  {
   "cell_type": "code",
   "execution_count": null,
   "id": "2a62ac72",
   "metadata": {},
   "outputs": [],
   "source": [
    "n      return\n",
    "12345  [5,4,3,2,1]"
   ]
  }
 ],
 "metadata": {
  "kernelspec": {
   "display_name": "Python 3",
   "language": "python",
   "name": "python3"
  },
  "language_info": {
   "codemirror_mode": {
    "name": "ipython",
    "version": 3
   },
   "file_extension": ".py",
   "mimetype": "text/x-python",
   "name": "python",
   "nbconvert_exporter": "python",
   "pygments_lexer": "ipython3",
   "version": "3.8.8"
  }
 },
 "nbformat": 4,
 "nbformat_minor": 5
}

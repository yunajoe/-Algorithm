{
 "cells": [
  {
   "cell_type": "code",
   "execution_count": 50,
   "id": "d19be7d3",
   "metadata": {},
   "outputs": [
    {
     "name": "stdout",
     "output_type": "stream",
     "text": [
      "32\n"
     ]
    }
   ],
   "source": [
    "# ATM \n",
    "\n",
    "a = [3,1,4,3,2]\n",
    "b = sorted(a)\n",
    "\n",
    "part = 0 \n",
    "answer = 0 \n",
    "for i in range(len(b)):\n",
    "    part = part + b[i]\n",
    "    answer = answer + part\n",
    "print(sum)"
   ]
  },
  {
   "cell_type": "code",
   "execution_count": null,
   "id": "1a1acad9",
   "metadata": {},
   "outputs": [],
   "source": []
  }
 ],
 "metadata": {
  "kernelspec": {
   "display_name": "Python 3",
   "language": "python",
   "name": "python3"
  },
  "language_info": {
   "codemirror_mode": {
    "name": "ipython",
    "version": 3
   },
   "file_extension": ".py",
   "mimetype": "text/x-python",
   "name": "python",
   "nbconvert_exporter": "python",
   "pygments_lexer": "ipython3",
   "version": "3.8.8"
  }
 },
 "nbformat": 4,
 "nbformat_minor": 5
}

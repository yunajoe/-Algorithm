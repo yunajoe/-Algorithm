{
 "cells": [
  {
   "cell_type": "code",
   "execution_count": 89,
   "id": "f0605136",
   "metadata": {},
   "outputs": [],
   "source": [
    "# 완주하지 못한 선수 \n",
    "\n",
    "def solution(participant,completion):\n",
    "    p_dic = {}\n",
    "    \n",
    "    for i in participant:\n",
    "        if i in p_dic:\n",
    "            p_dic[i] = p_dic[i] + 1\n",
    "        else:\n",
    "            p_dic = 1   # 이름(key)을 기준으로 value는 count\n",
    "            \n",
    "    for j in completion:\n",
    "        if j in p_dic:\n",
    "            p_dic[j] = p_dic[j] - 1  # 완주자의 이름을 p_dic에서 검색해보았을 때 있으면 -1, 따라서 완주자는 0\n",
    "        \n",
    "    for p in p_dic:\n",
    "        if p_dic[p] != 0:  # 완주자가 아닌 사람( 즉, 0이 아니면) \n",
    "            print(p_dic[p])\n",
    "            \n",
    "            \n",
    "\n"
   ]
  },
  {
   "cell_type": "code",
   "execution_count": 93,
   "id": "dccd689c",
   "metadata": {},
   "outputs": [
    {
     "name": "stdout",
     "output_type": "stream",
     "text": [
      "leo\n"
     ]
    },
    {
     "data": {
      "text/plain": [
       "{'leo': 1, 'kiki': 0, 'eden': 0}"
      ]
     },
     "execution_count": 93,
     "metadata": {},
     "output_type": "execute_result"
    }
   ],
   "source": [
    "participant = [\"leo\", \"kiki\", \"eden\"]\n",
    "completion = [\"eden\", \"kiki\"]\n",
    "\n",
    "\n",
    "dic = {}\n",
    "\n",
    "for i in participant:\n",
    "    if i in dic.keys():\n",
    "        dic[i] = dic[i] + 1\n",
    "    else:\n",
    "        dic[i] = 1\n",
    "        \n",
    "for c in completion:\n",
    "    if c in dic.keys():\n",
    "        dic[c] = dic[c] - 1\n",
    "        \n",
    "for d in dic:\n",
    "    if dic[d] != 0:\n",
    "        print(d)\n",
    "        \n",
    "        \n",
    "        \n",
    "dic        "
   ]
  },
  {
   "cell_type": "code",
   "execution_count": 1,
   "id": "ecc9a258",
   "metadata": {},
   "outputs": [
    {
     "data": {
      "text/plain": [
       "{'yellowhat': 'headgear',\n",
       " 'bluesunglasses': 'eyewear',\n",
       " 'green_turban': 'headgear'}"
      ]
     },
     "execution_count": 1,
     "metadata": {},
     "output_type": "execute_result"
    }
   ],
   "source": [
    "# 각각의 key값만 cnt 한다.  >>> 1 item\n",
    "# value값이 같을 떄는 ! 같은 value끼리 꽅해준다. >> 2 item. \n",
    "\n",
    "clothes = [[\"yellowhat\", \"headgear\"], [\"bluesunglasses\", \"eyewear\"], [\"green_turban\", \"headgear\"]]\n",
    "\n",
    "dic = {}\n",
    "for i in range(len(clothes)):\n",
    "    item = clothes[i]    \n",
    "    item[0] # value \n",
    "    dic[item[0]] = item[1] # key\n",
    "    \n",
    "dic"
   ]
  },
  {
   "cell_type": "code",
   "execution_count": 4,
   "id": "3621c986",
   "metadata": {},
   "outputs": [
    {
     "data": {
      "text/plain": [
       "{'headgear': 'green_turban', 'eyewear': 'bluesunglasses'}"
      ]
     },
     "execution_count": 4,
     "metadata": {},
     "output_type": "execute_result"
    }
   ],
   "source": [
    "# 위장 \n",
    "dic = {}\n",
    "for i in range(len(clothes)):\n",
    "    item = clothes[i]    \n",
    "    item[0] # value \n",
    "    dic[item[1]] = item[0] # key\n",
    "    \n",
    "dic"
   ]
  },
  {
   "cell_type": "code",
   "execution_count": 9,
   "id": "ce90cefa",
   "metadata": {},
   "outputs": [
    {
     "data": {
      "text/plain": [
       "0"
      ]
     },
     "execution_count": 9,
     "metadata": {},
     "output_type": "execute_result"
    }
   ],
   "source": [
    "# 한가지의 경우의 수 >> value가 다 같을 때 \n",
    "# 2가지의 key값이 있을 떄 \n",
    "cnt = 0 \n",
    "snt = 0\n",
    "\n",
    "for k,v in dic.items():\n",
    "    if v == v:\n",
    "        cnt = cnt + 1\n",
    "        \n",
    "    if v != v: \n",
    "        snt = snt + 1\n",
    "        \n",
    "        \n",
    "        \n",
    "\n",
    "\n",
    "\n"
   ]
  },
  {
   "cell_type": "code",
   "execution_count": null,
   "id": "cb321aa5",
   "metadata": {},
   "outputs": [],
   "source": []
  }
 ],
 "metadata": {
  "kernelspec": {
   "display_name": "Python 3",
   "language": "python",
   "name": "python3"
  },
  "language_info": {
   "codemirror_mode": {
    "name": "ipython",
    "version": 3
   },
   "file_extension": ".py",
   "mimetype": "text/x-python",
   "name": "python",
   "nbconvert_exporter": "python",
   "pygments_lexer": "ipython3",
   "version": "3.8.8"
  }
 },
 "nbformat": 4,
 "nbformat_minor": 5
}

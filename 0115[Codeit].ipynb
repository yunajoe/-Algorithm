{
 "cells": [
  {
   "cell_type": "code",
   "execution_count": 109,
   "id": "635a268b",
   "metadata": {},
   "outputs": [],
   "source": [
    "# 주민등록번호 가리기  -- 나의 풀이\n",
    "def mask_security_number(number):\n",
    "    number = list(number)\n",
    "    number[-1:-5:-1] = \"****\"\n",
    "    number = \"\".join(number)\n",
    "    return number\n",
    "    \n",
    "\n",
    "\n",
    " \n"
   ]
  },
  {
   "cell_type": "code",
   "execution_count": 111,
   "id": "28b7003c",
   "metadata": {},
   "outputs": [
    {
     "name": "stdout",
     "output_type": "stream",
     "text": [
      "880720-123****\n",
      "880720123****\n",
      "930124-765****\n",
      "930124765****\n",
      "761214-235****\n",
      "761214235****\n"
     ]
    }
   ],
   "source": [
    "print(mask_security_number(\"880720-1234567\"))\n",
    "print(mask_security_number(\"8807201234567\"))\n",
    "print(mask_security_number(\"930124-7654321\"))\n",
    "print(mask_security_number(\"9301247654321\"))\n",
    "print(mask_security_number(\"761214-2357111\"))\n",
    "print(mask_security_number(\"7612142357111\"))"
   ]
  },
  {
   "cell_type": "code",
   "execution_count": 117,
   "id": "337ed5d0",
   "metadata": {},
   "outputs": [],
   "source": [
    "# 주민등록번호 가리기 - 나의 풀이\n",
    "def mask_security_number(number):\n",
    "    number = str(number)\n",
    "    number = number[:len(number)-4]+\"****\"\n",
    "    return number\n"
   ]
  },
  {
   "cell_type": "code",
   "execution_count": 118,
   "id": "8582940b",
   "metadata": {},
   "outputs": [
    {
     "name": "stdout",
     "output_type": "stream",
     "text": [
      "880720-123****\n",
      "880720123****\n",
      "930124-765****\n",
      "930124765****\n",
      "761214-235****\n",
      "761214235****\n"
     ]
    }
   ],
   "source": [
    "print(mask_security_number(\"880720-1234567\"))\n",
    "print(mask_security_number(\"8807201234567\"))\n",
    "print(mask_security_number(\"930124-7654321\"))\n",
    "print(mask_security_number(\"9301247654321\"))\n",
    "print(mask_security_number(\"761214-2357111\"))\n",
    "print(mask_security_number(\"7612142357111\"))"
   ]
  },
  {
   "cell_type": "code",
   "execution_count": 127,
   "id": "306b99bb",
   "metadata": {},
   "outputs": [],
   "source": [
    "def mask_security_number(number):\n",
    "    number = list(number)  # str은 변경이 불가능하니까 리스트로 바꿔줌\n",
    "    \n",
    "    #  마지막 네 값을, * 로 대체     \n",
    "    for i in range(len(number)-4, len(number)):\n",
    "        number[i] = \"*\"    \n",
    "    # 리스트를 문자열로 복구하여 반환 \n",
    "    return \"\".join(number)\n",
    "    \n",
    "\n",
    "        \n",
    "    \n",
    "        \n"
   ]
  },
  {
   "cell_type": "code",
   "execution_count": 128,
   "id": "75b7364d",
   "metadata": {},
   "outputs": [
    {
     "name": "stdout",
     "output_type": "stream",
     "text": [
      "880720-123****\n",
      "880720123****\n",
      "930124-765****\n",
      "930124765****\n",
      "761214-235****\n",
      "761214235****\n"
     ]
    }
   ],
   "source": [
    "print(mask_security_number(\"880720-1234567\"))\n",
    "print(mask_security_number(\"8807201234567\"))\n",
    "print(mask_security_number(\"930124-7654321\"))\n",
    "print(mask_security_number(\"9301247654321\"))\n",
    "print(mask_security_number(\"761214-2357111\"))\n",
    "print(mask_security_number(\"7612142357111\"))"
   ]
  },
  {
   "cell_type": "code",
   "execution_count": 142,
   "id": "2471ae25",
   "metadata": {},
   "outputs": [],
   "source": [
    "# 펠린드롬 >> \n",
    "# word 글자수  // 2 = q\n",
    "def is_palindrome(word):\n",
    "    q = len(word) // 2\n",
    "    front = word[:q]\n",
    "    back = word[-1:-q-1:-1]\n",
    "    if front == back:\n",
    "        return True\n",
    "    return False\n",
    "\n"
   ]
  },
  {
   "cell_type": "code",
   "execution_count": 143,
   "id": "a25aeffd",
   "metadata": {},
   "outputs": [
    {
     "name": "stdout",
     "output_type": "stream",
     "text": [
      "True\n",
      "False\n",
      "True\n",
      "True\n",
      "False\n"
     ]
    }
   ],
   "source": [
    "print(is_palindrome(\"racecar\"))\n",
    "print(is_palindrome(\"stars\"))\n",
    "print(is_palindrome(\"토마토\"))\n",
    "print(is_palindrome(\"kayak\"))\n",
    "print(is_palindrome(\"hello\"))"
   ]
  },
  {
   "cell_type": "code",
   "execution_count": 156,
   "id": "40c69cad",
   "metadata": {},
   "outputs": [
    {
     "data": {
      "text/plain": [
       "901"
      ]
     },
     "execution_count": 156,
     "metadata": {},
     "output_type": "execute_result"
    }
   ],
   "source": [
    "# 자릿수 합 구하기 \n",
    "\n",
    "def sum_digit(num):\n",
    "    num = str(num)\n",
    "    \n",
    "    total = 0\n",
    "    for i in range(len(num)):\n",
    "        total = total + int(num[i])\n",
    "    return total  # sum(342) >> 9 \n",
    "\n",
    "\n",
    "# sum_digt(1).. 부터 sum_digit(100) 까지 합  구하기 \n",
    "\n",
    "answer = 0\n",
    "for i in range(1,101):\n",
    "    answer = answer + sum_digit(i)\n",
    "answer"
   ]
  }
 ],
 "metadata": {
  "kernelspec": {
   "display_name": "Python 3",
   "language": "python",
   "name": "python3"
  },
  "language_info": {
   "codemirror_mode": {
    "name": "ipython",
    "version": 3
   },
   "file_extension": ".py",
   "mimetype": "text/x-python",
   "name": "python",
   "nbconvert_exporter": "python",
   "pygments_lexer": "ipython3",
   "version": "3.8.8"
  }
 },
 "nbformat": 4,
 "nbformat_minor": 5
}

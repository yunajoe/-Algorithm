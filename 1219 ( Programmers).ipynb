{
 "cells": [
  {
   "cell_type": "code",
   "execution_count": null,
   "id": "cea0599b",
   "metadata": {},
   "outputs": [],
   "source": [
    "# 정수 제곱근 판별\n",
    "\n",
    "def solution(n):\n",
    "    answer = 0\n",
    "    x =  n **(1/2)\n",
    "    \n",
    "    if x**2 == n:\n",
    "        answer = (x+1)**2\n",
    "    else:\n",
    "        answer = -1\n",
    "    return answer"
   ]
  },
  {
   "cell_type": "code",
   "execution_count": null,
   "id": "c9f06648",
   "metadata": {},
   "outputs": [],
   "source": [
    "n    return\n",
    "121  144\n",
    "3    -1"
   ]
  },
  {
   "cell_type": "code",
   "execution_count": null,
   "id": "54e52827",
   "metadata": {},
   "outputs": [],
   "source": [
    "# 만약 m나누기 n 에서 나머지가 0이면은 , 몫이 x라고 할 때  n곱하기 x가 최소 공배수 \n",
    "# 나머지가 0이 아닐 경우, n곱하기 m이  최소 공배수 \n",
    "\n",
    "# 최대고약수는 공통수 중 ... ? max값 \n",
    "\n",
    "# 최대공약수와 최소공배수\n",
    "\n",
    "def solution(n, m):\n",
    "    answer = []\n",
    "    if m % n == 0:\n",
    "        x = m / n\n",
    "        Min_Num = x * n \n",
    "        Max_Num = n\n",
    "        answer.insert(0, Max_Num)  # insert는 (index 넘버, value..)\n",
    "        answer.insert(1, Min_Num)  # append, insert, extend는 모두 take 1 argument이다\n",
    "\n",
    "    else:\n",
    "        Min_Num = m * n \n",
    "        Max_Num = 1\n",
    "        answer.insert(0, Max_Num)\n",
    "        answer.insert(1, Min_Num)\n",
    "        \n",
    "    return answer"
   ]
  },
  {
   "cell_type": "code",
   "execution_count": null,
   "id": "d2fd8672",
   "metadata": {},
   "outputs": [],
   "source": [
    "n   m     return\n",
    "3  12    [3, 12]\n",
    "2  5    [1, 10]"
   ]
  },
  {
   "cell_type": "code",
   "execution_count": null,
   "id": "279ff3b8",
   "metadata": {},
   "outputs": [],
   "source": [
    "# 최대공약수와 최소공배수 ( 다른풀이 )\n",
    "\n",
    "def solution(n, m):\n",
    "    \n",
    "    x = max(n, m) # 최대공약수 \n",
    "    y = min(n, m) # 최소공배수, 최소공배수는   (n X m ) //  최대공약수\n",
    "    z = 1   # 일단은 무조건 1부터 나누자..\n",
    "    \n",
    "    while z > 0:  # 나머지가 0이 아닌수로 나눠질떄가지 계속 나누자..\n",
    "        \n",
    "        z = x % y\n",
    "        x, y = y, z   # 유클리드 호제법\n",
    "        answer = [x, (n*m)/x]    \n",
    "    return answer           \n",
    "    \n",
    "    \n",
    "    \n",
    "  "
   ]
  }
 ],
 "metadata": {
  "kernelspec": {
   "display_name": "Python 3",
   "language": "python",
   "name": "python3"
  },
  "language_info": {
   "codemirror_mode": {
    "name": "ipython",
    "version": 3
   },
   "file_extension": ".py",
   "mimetype": "text/x-python",
   "name": "python",
   "nbconvert_exporter": "python",
   "pygments_lexer": "ipython3",
   "version": "3.8.8"
  }
 },
 "nbformat": 4,
 "nbformat_minor": 5
}

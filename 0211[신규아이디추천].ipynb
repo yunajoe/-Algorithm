{
 "cells": [
  {
   "cell_type": "code",
   "execution_count": null,
   "id": "a2457067",
   "metadata": {},
   "outputs": [],
   "source": [
    "1단계 new_id의 모든 대문자를 대응되는 소문자로 치환합니다.\n",
    "2단계 new_id에서 알파벳 소문자, 숫자, 빼기(-), 밑줄(_), 마침표(.)를 제외한 모든 문자를 제거합니다.\n",
    "3단계 new_id에서 마침표(.)가 2번 이상 연속된 부분을 하나의 마침표(.)로 치환합니다.\n",
    "4단계 new_id에서 마침표(.)가 처음이나 끝에 위치한다면 제거합니다.\n",
    "5단계 new_id가 빈 문자열이라면, new_id에 \"a\"를 대입합니다.\n",
    "6단계 new_id의 길이가 16자 이상이면, new_id의 첫 15개의 문자를 제외한 나머지 문자들을 모두 제거합니다.\n",
    "     만약 제거 후 마침표(.)가 new_id의 끝에 위치한다면 끝에 위치한 마침표(.) 문자를 제거합니다.\n",
    "7단계 new_id의 길이가 2자 이하라면, new_id의 마지막 문자를 new_id의 길이가 3이 될 때까지 반복해서 끝에 붙입니다."
   ]
  },
  {
   "cell_type": "code",
   "execution_count": 73,
   "id": "02e52783",
   "metadata": {},
   "outputs": [
    {
     "data": {
      "text/plain": [
       "'abcdefghijklmn.p'"
      ]
     },
     "execution_count": 73,
     "metadata": {},
     "output_type": "execute_result"
    }
   ],
   "source": [
    "import re\n",
    "new_id = \"abcdefghijklmn.p\"\n",
    "answer = \"\"\n",
    "answer = answer + new_id.lower()\n",
    "answer"
   ]
  },
  {
   "cell_type": "code",
   "execution_count": 74,
   "id": "97d09266",
   "metadata": {},
   "outputs": [
    {
     "data": {
      "text/plain": [
       "'abcdefghijklmn.p'"
      ]
     },
     "execution_count": 74,
     "metadata": {},
     "output_type": "execute_result"
    }
   ],
   "source": [
    "#[^0-9] # 숫자가 아닌 것들\n",
    "#^[0-9] # 숫자로 시작! 하는 것들\n",
    "# + 는 1개이상, 0은 0개이상\n",
    "answer = re.sub(\"[^0-9a-z_.\\-]+\",\"\",answer)\n",
    "answer"
   ]
  },
  {
   "cell_type": "code",
   "execution_count": 75,
   "id": "ebd37d19",
   "metadata": {},
   "outputs": [
    {
     "data": {
      "text/plain": [
       "'abcdefghijklmn.p'"
      ]
     },
     "execution_count": 75,
     "metadata": {},
     "output_type": "execute_result"
    }
   ],
   "source": [
    "answer = re.sub(\"\\.+\",\".\",answer)\n",
    "answer"
   ]
  },
  {
   "cell_type": "code",
   "execution_count": 76,
   "id": "8c4b65ef",
   "metadata": {},
   "outputs": [
    {
     "data": {
      "text/plain": [
       "'abcdefghijklmn.p'"
      ]
     },
     "execution_count": 76,
     "metadata": {},
     "output_type": "execute_result"
    }
   ],
   "source": [
    "answer = re.sub(\"^[.]|[.]$\",\"\",answer)\n",
    "answer"
   ]
  },
  {
   "cell_type": "code",
   "execution_count": 77,
   "id": "b953f681",
   "metadata": {},
   "outputs": [],
   "source": [
    "if answer == \"\":\n",
    "    answer = \"a\""
   ]
  },
  {
   "cell_type": "code",
   "execution_count": 78,
   "id": "53d9b5c1",
   "metadata": {},
   "outputs": [
    {
     "data": {
      "text/plain": [
       "'abcdefghijklmn.p'"
      ]
     },
     "execution_count": 78,
     "metadata": {},
     "output_type": "execute_result"
    }
   ],
   "source": [
    "answer"
   ]
  },
  {
   "cell_type": "code",
   "execution_count": 79,
   "id": "d771224b",
   "metadata": {},
   "outputs": [
    {
     "name": "stdout",
     "output_type": "stream",
     "text": [
      "abcdefghijklmn\n"
     ]
    }
   ],
   "source": [
    "if len(answer) > 15:\n",
    "    answer = answer[:15]\n",
    "    if answer[-1] == \".\":\n",
    "        answer = re.sub(\"[.]$\",\"\",answer)\n",
    "        print(answer)"
   ]
  },
  {
   "cell_type": "code",
   "execution_count": 80,
   "id": "773549ee",
   "metadata": {},
   "outputs": [],
   "source": [
    "if len(answer) <= 2:\n",
    "    answer = answer + answer[-1] * (3 - len(answer)) \n",
    "    print(answer)\n",
    "    \n",
    "   "
   ]
  },
  {
   "cell_type": "code",
   "execution_count": 81,
   "id": "bb46fcfd",
   "metadata": {},
   "outputs": [
    {
     "data": {
      "text/plain": [
       "'abcdefghijklmn'"
      ]
     },
     "execution_count": 81,
     "metadata": {},
     "output_type": "execute_result"
    }
   ],
   "source": [
    "answer"
   ]
  },
  {
   "cell_type": "code",
   "execution_count": null,
   "id": "8ece9301",
   "metadata": {},
   "outputs": [],
   "source": [
    "import re\n",
    "\n",
    "def solution(new_id):\n",
    "    answer = ''\n",
    "    answer = answer + new_id.lower() # 소문자 치환\n",
    "    answer = re.sub(\"[^a-z0-9\\-_.]\",\"\",answer)  # 특정 문자 치환\n",
    "    answer = re.sub(\"[\\.\\.]+\",\".\",answer) # 2번 이상 연속된 부분을 하나의 마침표(.)로 치환\n",
    "    answer = re.sub(\"^[.]|[.]$\",\"\",answer)\n",
    "    if len(answer) == 0:\n",
    "        answer = \"a\"\n",
    "    if len(answer) >= 16:\n",
    "        answer = re.sub(\"[\\.]$\",\"\",answer[:15])  \n",
    "    if len(answer) <= 2:\n",
    "        while len(answer) < 3:\n",
    "            answer = answer + answer[-1]          \n",
    "        \n",
    "    return answer"
   ]
  }
 ],
 "metadata": {
  "kernelspec": {
   "display_name": "Python 3",
   "language": "python",
   "name": "python3"
  },
  "language_info": {
   "codemirror_mode": {
    "name": "ipython",
    "version": 3
   },
   "file_extension": ".py",
   "mimetype": "text/x-python",
   "name": "python",
   "nbconvert_exporter": "python",
   "pygments_lexer": "ipython3",
   "version": "3.8.8"
  }
 },
 "nbformat": 4,
 "nbformat_minor": 5
}

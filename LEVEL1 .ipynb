{
 "cells": [
  {
   "cell_type": "code",
   "execution_count": null,
   "id": "b12b9035",
   "metadata": {},
   "outputs": [],
   "source": [
    "def solution(n):\n",
    "    answer = \"\" \n",
    "    if n % 2 == 0:\n",
    "        q = n // 2\n",
    "        answer = answer + (\"수박\" * q)\n",
    "    else:\n",
    "        q = n // 2\n",
    "        answer = answer + (\"수박\" * q + \"수\")\n",
    "    return answer"
   ]
  },
  {
   "cell_type": "code",
   "execution_count": null,
   "id": "6c474936",
   "metadata": {},
   "outputs": [],
   "source": [
    "def solution(n):\n",
    "    # n보다 작은 수로 나눴을때 몫, 나머지     \n",
    "    1,2,3,4,5,6,7,8,9\n",
    "    0,0,1,2,0,4,3,2,1\n",
    "    \n",
    "    rs = []\n",
    "    \n",
    "    for i in range(1,n):\n",
    "        r = n % i \n",
    "        rs.append(r)\n",
    "        for j in range(len(rs)):\n",
    "            if rs[j] == 1:\n",
    "                answer = j + 1  \n",
    "                return answer\n",
    "        \n",
    "    "
   ]
  },
  {
   "cell_type": "code",
   "execution_count": 62,
   "id": "f90319d9",
   "metadata": {},
   "outputs": [
    {
     "name": "stdout",
     "output_type": "stream",
     "text": [
      "1 2 3 4 6 8 12 24 "
     ]
    }
   ],
   "source": [
    "# 약수구하기 \n",
    "n = 24\n",
    "\n",
    "for i in range(1,n+1):\n",
    "    if n % i == 0:\n",
    "        print(i,end = \" \")\n",
    "    "
   ]
  },
  {
   "cell_type": "code",
   "execution_count": 66,
   "id": "6d38c491",
   "metadata": {},
   "outputs": [
    {
     "name": "stdout",
     "output_type": "stream",
     "text": [
      "1\n",
      "2\n",
      "3\n",
      "4\n",
      "6\n",
      "8\n",
      "12\n",
      "24\n"
     ]
    },
    {
     "data": {
      "text/plain": [
       "8"
      ]
     },
     "execution_count": 66,
     "metadata": {},
     "output_type": "execute_result"
    }
   ],
   "source": [
    "n = 24\n",
    "i = 1\n",
    "count = 0 \n",
    "while i <=n:\n",
    "    if n % i == 0:\n",
    "        print(i)\n",
    "        count = count + 1\n",
    "        i = i + 1\n",
    "        \n",
    "    else:\n",
    "        i = i+1\n",
    "        \n",
    " \n",
    "count"
   ]
  },
  {
   "cell_type": "code",
   "execution_count": 74,
   "id": "6516f538",
   "metadata": {},
   "outputs": [
    {
     "data": {
      "text/plain": [
       "2"
      ]
     },
     "execution_count": 74,
     "metadata": {},
     "output_type": "execute_result"
    }
   ],
   "source": [
    "a = 10\n",
    "b = 12\n",
    "\n",
    "# 최대공약수 \n",
    "\n",
    "common = [] # 공통약수\n",
    "for i in range(min(a,b),0,-1): # start, stop, step\n",
    "    if a%i == 0 and b%i == 0:\n",
    "        common.append(i)\n",
    "        \n",
    "max(common)\n",
    "        \n",
    "   \n",
    "    "
   ]
  },
  {
   "cell_type": "code",
   "execution_count": 77,
   "id": "2d986c3c",
   "metadata": {},
   "outputs": [
    {
     "data": {
      "text/plain": [
       "12"
      ]
     },
     "execution_count": 77,
     "metadata": {},
     "output_type": "execute_result"
    }
   ],
   "source": [
    "a = 3\n",
    "b = 12\n",
    "# 최소공배수\n",
    "\n",
    "common = []\n",
    "for j in range(max(a,b),(a*b)+1):\n",
    "    if j % a==0 and j % b ==0:\n",
    "        common.append(j)\n",
    "min(common)"
   ]
  },
  {
   "cell_type": "code",
   "execution_count": null,
   "id": "df7543e8",
   "metadata": {},
   "outputs": [],
   "source": [
    "def solution(n, m):\n",
    "    answer = []\n",
    "    \n",
    "    # 최대공약수 \n",
    "    part1 = []\n",
    "    for i in range(min(n,m),0,-1):\n",
    "        if n % i == 0 and m % i == 0:\n",
    "            part1.append(i)\n",
    "    p1 = max(part1)\n",
    "            \n",
    "    # 최소공배수\n",
    "    part2 = []\n",
    "    for j in range(max(n,m),(n*m)+1):\n",
    "        if j % n==0 and j % m ==0:\n",
    "            part2.append(j)\n",
    "    p2 = min(part2)\n",
    "        \n",
    "    answer = [p1,p2]\n",
    "    return answer"
   ]
  }
 ],
 "metadata": {
  "kernelspec": {
   "display_name": "Python 3",
   "language": "python",
   "name": "python3"
  },
  "language_info": {
   "codemirror_mode": {
    "name": "ipython",
    "version": 3
   },
   "file_extension": ".py",
   "mimetype": "text/x-python",
   "name": "python",
   "nbconvert_exporter": "python",
   "pygments_lexer": "ipython3",
   "version": "3.8.8"
  }
 },
 "nbformat": 4,
 "nbformat_minor": 5
}

{
 "cells": [
  {
   "cell_type": "code",
   "execution_count": null,
   "id": "1c958bbd",
   "metadata": {},
   "outputs": [],
   "source": [
    "# 숫자문자열과 영단어 \n",
    "\n",
    "def solution(s):\n",
    "    al = [\"zero\", \"one\",\"two\",\"three\",\"four\",\"five\",\"six\",\"seven\",\"eight\",\"nine\"]     \n",
    "    num = [\"0\",\"1\",\"2\",\"3\",\"4\",\"5\",\"6\",\"7\",\"8\",\"9\"]\n",
    "    \n",
    "    for x in range(len(al)):\n",
    "        if al[x] in s:\n",
    "            s = s.replace(al[x], num[x])\n",
    "        elif num[x] in s:\n",
    "            s = s.replace(num[x], num[x])\n",
    "    answer= int(s)\n",
    "    \n",
    "    \n",
    "\n",
    "    return answer"
   ]
  },
  {
   "cell_type": "code",
   "execution_count": null,
   "id": "47c562b8",
   "metadata": {},
   "outputs": [],
   "source": [
    "s                  result\n",
    "\"one4seveneight\"    1478\n",
    "\"23four5six7\"     234567\n",
    "\"2three45sixseven\" 234567\n",
    "\"123\"  123"
   ]
  },
  {
   "cell_type": "code",
   "execution_count": 51,
   "id": "bcc0c188",
   "metadata": {},
   "outputs": [
    {
     "name": "stdout",
     "output_type": "stream",
     "text": [
      "1478\n"
     ]
    }
   ],
   "source": [
    "# 숫자문자열과 영단어 ( 다른 사람 풀이 -- 1)\n",
    "\n",
    "s = \"one4seveneight\"\n",
    "al = [\"zero\", \"one\",\"two\",\"three\",\"four\",\"five\",\"six\",\"seven\",\"eight\",\"nine\"] \n",
    "\n",
    "answer=\"\"\n",
    "for idx, num in enumerate(al):\n",
    "    if num in s:\n",
    "        s = s.replace(num, str(idx))\n",
    "    answer = s\n",
    "return int(answer)   \n",
    "        \n",
    "\n"
   ]
  },
  {
   "cell_type": "code",
   "execution_count": null,
   "id": "aeb912b6",
   "metadata": {},
   "outputs": [],
   "source": [
    "# 완주하지 못한 선수 - 실패!!!\n",
    "\n",
    "# participant, completion  둘다 오름차순 정렬하기 \n",
    "\n",
    "# 인덱스 번호로 값 확인하기?\n",
    "\n"
   ]
  },
  {
   "cell_type": "code",
   "execution_count": 57,
   "id": "9dbb9df4",
   "metadata": {},
   "outputs": [],
   "source": [
    "partiparticipant = [\"mislav\", \"stanko\", \"mislav\", \"ana\"]\n",
    "completion = [\"stanko\", \"ana\", \"mislav\"]\n",
    "\n",
    "new_s = sorted(partiparticipant)"
   ]
  },
  {
   "cell_type": "code",
   "execution_count": 58,
   "id": "1172171d",
   "metadata": {},
   "outputs": [],
   "source": [
    "new_c = sorted(completion)"
   ]
  },
  {
   "cell_type": "code",
   "execution_count": 59,
   "id": "b80cbada",
   "metadata": {},
   "outputs": [
    {
     "data": {
      "text/plain": [
       "['ana', 'mislav', 'mislav', 'stanko']"
      ]
     },
     "execution_count": 59,
     "metadata": {},
     "output_type": "execute_result"
    }
   ],
   "source": [
    "new_s"
   ]
  },
  {
   "cell_type": "code",
   "execution_count": 60,
   "id": "3703cb21",
   "metadata": {},
   "outputs": [
    {
     "data": {
      "text/plain": [
       "['ana', 'mislav', 'stanko']"
      ]
     },
     "execution_count": 60,
     "metadata": {},
     "output_type": "execute_result"
    }
   ],
   "source": [
    "new_c"
   ]
  }
 ],
 "metadata": {
  "kernelspec": {
   "display_name": "Python 3",
   "language": "python",
   "name": "python3"
  },
  "language_info": {
   "codemirror_mode": {
    "name": "ipython",
    "version": 3
   },
   "file_extension": ".py",
   "mimetype": "text/x-python",
   "name": "python",
   "nbconvert_exporter": "python",
   "pygments_lexer": "ipython3",
   "version": "3.8.8"
  }
 },
 "nbformat": 4,
 "nbformat_minor": 5
}

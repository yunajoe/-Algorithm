{
 "cells": [
  {
   "cell_type": "code",
   "execution_count": null,
   "id": "71ab50a3",
   "metadata": {},
   "outputs": [],
   "source": [
    "# 약수의 합\n",
    "# 나누는 수가 n보다 >= 한에서.. 나눴을 때  0 인수들의 합 \n",
    "# 1,2,3,4,6,12  ///// 1,5\n",
    "\n",
    "def solution(n):\n",
    "    answer = 0\n",
    "    num = 1\n",
    "   \n",
    "    \n",
    "    for num in range(1,n+1):\n",
    "        if n % num == 0 :\n",
    "            answer = answer + num\n",
    "            \n",
    "    return answer"
   ]
  },
  {
   "cell_type": "code",
   "execution_count": null,
   "id": "4eb1ff57",
   "metadata": {},
   "outputs": [],
   "source": [
    "n   return\n",
    "12  28\n",
    "5   6"
   ]
  },
  {
   "cell_type": "code",
   "execution_count": null,
   "id": "0ce18691",
   "metadata": {},
   "outputs": [],
   "source": [
    "# 문자열을 정수로 바꾸기 \n",
    "\n",
    "def solution(s):\n",
    "    answer = 0\n",
    "    answer = int(s)\n",
    "    return answer"
   ]
  }
 ],
 "metadata": {
  "kernelspec": {
   "display_name": "Python 3",
   "language": "python",
   "name": "python3"
  },
  "language_info": {
   "codemirror_mode": {
    "name": "ipython",
    "version": 3
   },
   "file_extension": ".py",
   "mimetype": "text/x-python",
   "name": "python",
   "nbconvert_exporter": "python",
   "pygments_lexer": "ipython3",
   "version": "3.8.8"
  }
 },
 "nbformat": 4,
 "nbformat_minor": 5
}

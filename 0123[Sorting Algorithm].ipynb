{
 "cells": [
  {
   "cell_type": "code",
   "execution_count": 41,
   "id": "533281ef",
   "metadata": {},
   "outputs": [
    {
     "data": {
      "text/plain": [
       "[5]"
      ]
     },
     "execution_count": 41,
     "metadata": {},
     "output_type": "execute_result"
    }
   ],
   "source": [
    "# k번째수  >> 나의풀이\n",
    "\n",
    "array = [1, 5, 2, 6, 3, 7, 4]\n",
    "\n",
    "commands = [2, 5, 3]\n",
    "\n",
    "answer = []\n",
    "for i in range(len(array)):\n",
    "    p = commands[0]-1\n",
    "    q = commands[1]\n",
    "    r = commands[2]-1\n",
    "    new = sorted(array[p:q])\n",
    "    factor = new[r]\n",
    "answer.append(factor)\n",
    "answer"
   ]
  },
  {
   "cell_type": "code",
   "execution_count": 65,
   "id": "8f0eb369",
   "metadata": {},
   "outputs": [
    {
     "data": {
      "text/plain": [
       "[5, 6, 3]"
      ]
     },
     "execution_count": 65,
     "metadata": {},
     "output_type": "execute_result"
    }
   ],
   "source": [
    "def solution(array, commands):\n",
    "    # start_index = command[0] - 1\n",
    "    # end_ index = command[1]\n",
    "    # range = command[2] -1 \n",
    "    answer = []\n",
    "    for command in commands:\n",
    "        start_index = command[0] - 1\n",
    "        end_index = command[1]\n",
    "        ren = command[2] -1 \n",
    "        new = sorted(array[start_index:end_index])\n",
    "        factor = new[ren]\n",
    "        answer.append(factor)\n",
    "    return answer\n",
    "       \n",
    "    \n",
    "    \n",
    "    \n",
    "   "
   ]
  },
  {
   "cell_type": "code",
   "execution_count": 71,
   "id": "21695a08",
   "metadata": {},
   "outputs": [
    {
     "name": "stdout",
     "output_type": "stream",
     "text": [
      "[5, 6, 3]\n"
     ]
    }
   ],
   "source": [
    "def solution(array, commands):   # 다른사람풀이           1\n",
    "    answer = []\n",
    "        for command in commands:\n",
    "        new = array[command[0]-1:command[1]]\n",
    "        new.sort()\n",
    "        factor = new[command[2]-1]\n",
    "        answer.append(factor)\n",
    "    \n",
    "\n",
    "print(answer)\n",
    "\n",
    "    \n",
    "    "
   ]
  },
  {
   "cell_type": "code",
   "execution_count": 73,
   "id": "75dd6628",
   "metadata": {},
   "outputs": [
    {
     "name": "stdout",
     "output_type": "stream",
     "text": [
      "2 5 3\n",
      "4 4 1\n",
      "1 7 3\n"
     ]
    }
   ],
   "source": [
    "array = [1, 5, 2, 6, 3, 7, 4]\n",
    "\n",
    "commands = [[2, 5, 3], [4, 4, 1], [1, 7, 3]]\n",
    "\n",
    "#   [2, 3, 5, 6]  array 인덱스 1부터 4까지 뽑아야함 이중 인덱스 2번찾아야함\n",
    "\n",
    "for command in commands:\n",
    "    i,j,k = command\n",
    "    start = i-1\n",
    "    end = j \n",
    "    ren = 2\n",
    "    "
   ]
  },
  {
   "cell_type": "code",
   "execution_count": 74,
   "id": "6a5e69a1",
   "metadata": {},
   "outputs": [
    {
     "name": "stdout",
     "output_type": "stream",
     "text": [
      "2 5 3\n",
      "4 4 1\n",
      "1 7 3\n"
     ]
    }
   ],
   "source": [
    "[for i, j, k in commands"
   ]
  },
  {
   "cell_type": "code",
   "execution_count": null,
   "id": "9c4a95f3",
   "metadata": {},
   "outputs": [],
   "source": [
    "# 다른 사람 풀이 \n",
    "def solution(array, commands):\n",
    "answer = [sorted(array[i-1:j])[k-1] for i, j, k in commands]"
   ]
  },
  {
   "cell_type": "code",
   "execution_count": null,
   "id": "f7abe765",
   "metadata": {},
   "outputs": [],
   "source": [
    "# 일의 자리수는 그냥 붙이고 \n",
    "# 10 이 넘으면 몫과 나머지... 내림찬순 "
   ]
  },
  {
   "cell_type": "code",
   "execution_count": 54,
   "id": "3e176071",
   "metadata": {},
   "outputs": [
    {
     "name": "stdout",
     "output_type": "stream",
     "text": [
      "[1, 0]\n",
      "[6, 2]\n",
      "6210\n"
     ]
    }
   ],
   "source": [
    "# 가장큰수 >> 나의 풀이 \n",
    "\n",
    "numbers = [6, 10, 2]\n",
    "part1 = []\n",
    "part2 = []\n",
    "for i in numbers:\n",
    "    \n",
    "    if i >=10:\n",
    "        p = i // 10\n",
    "        q = i % 10 \n",
    "        part1.append(p)\n",
    "        part1.append(q)\n",
    "        part1 = sorted(part1, reverse = True)\n",
    "    else:\n",
    "        part2.append(i)\n",
    "        part2 = sorted(part2, reverse = True)\n",
    "        answer = part2 + part1\n",
    "        answer = list(map(str,answer))\n",
    "        answer = \"\".join(answer)\n",
    "        \n",
    "\n",
    "   \n",
    "        \n",
    "        \n",
    "print(part1)\n",
    "print(part2)\n",
    "print(answer)"
   ]
  },
  {
   "cell_type": "code",
   "execution_count": null,
   "id": "e48a859f",
   "metadata": {},
   "outputs": [],
   "source": [
    "# 가장큰수 >> 다른 사람 풀이 \n",
    "\n",
    "def solution(numbers):\n",
    "    numbers = list(map(str, numbers))\n",
    "    numbers.sort(key =lambda x:x *3, reverse = True)\n",
    "    answer = \"\".join(numbers)\n",
    "    return answer\n"
   ]
  },
  {
   "cell_type": "code",
   "execution_count": 55,
   "id": "ba6b9aef",
   "metadata": {},
   "outputs": [
    {
     "data": {
      "text/plain": [
       "7"
      ]
     },
     "execution_count": 55,
     "metadata": {},
     "output_type": "execute_result"
    }
   ],
   "source": [
    "# 람다\n",
    "# lambda 매개변수 : 표현식 \n",
    "\n",
    "def plus(x,y):\n",
    "    return x + y\n",
    "\n",
    "plus(2,5)"
   ]
  },
  {
   "cell_type": "code",
   "execution_count": 56,
   "id": "3eb4b891",
   "metadata": {},
   "outputs": [
    {
     "data": {
      "text/plain": [
       "30"
      ]
     },
     "execution_count": 56,
     "metadata": {},
     "output_type": "execute_result"
    }
   ],
   "source": [
    "(lambda x,y: x+y)(10,20)"
   ]
  },
  {
   "cell_type": "code",
   "execution_count": 59,
   "id": "45c0166a",
   "metadata": {},
   "outputs": [
    {
     "data": {
      "text/plain": [
       "11"
      ]
     },
     "execution_count": 59,
     "metadata": {},
     "output_type": "execute_result"
    }
   ],
   "source": [
    "(lambda x: x + 10)(1)"
   ]
  },
  {
   "cell_type": "code",
   "execution_count": 63,
   "id": "c44a6839",
   "metadata": {},
   "outputs": [
    {
     "data": {
      "text/plain": [
       "'fail'"
      ]
     },
     "execution_count": 63,
     "metadata": {},
     "output_type": "execute_result"
    }
   ],
   "source": [
    "(lambda x: \"pass\" if x >=70 else \"fail\")(40)"
   ]
  },
  {
   "cell_type": "code",
   "execution_count": 68,
   "id": "46139adc",
   "metadata": {},
   "outputs": [
    {
     "data": {
      "text/plain": [
       "[(0, 1), (1, 2), (3, 0), (5, 1), (5, 2)]"
      ]
     },
     "execution_count": 68,
     "metadata": {},
     "output_type": "execute_result"
    }
   ],
   "source": [
    "a = [(1, 2), (5, 1), (0, 1), (5, 2), (3, 0)]\n",
    "b = sorted(a)  # 앞의 인자로, 우선순위가 됨. \n",
    "b"
   ]
  },
  {
   "cell_type": "code",
   "execution_count": 69,
   "id": "1b34e89b",
   "metadata": {},
   "outputs": [
    {
     "data": {
      "text/plain": [
       "[(0, 1), (1, 2), (3, 0), (5, 1), (5, 2)]"
      ]
     },
     "execution_count": 69,
     "metadata": {},
     "output_type": "execute_result"
    }
   ],
   "source": [
    "c = sorted(a, key = lambda x: x[0])\n",
    "c  # 튜플의 앞의 인자를 기준으로 정렬 "
   ]
  },
  {
   "cell_type": "code",
   "execution_count": 71,
   "id": "75cd51da",
   "metadata": {},
   "outputs": [
    {
     "data": {
      "text/plain": [
       "[(5, 1), (5, 2), (3, 0), (1, 2), (0, 1)]"
      ]
     },
     "execution_count": 71,
     "metadata": {},
     "output_type": "execute_result"
    }
   ],
   "source": [
    "c = sorted(a, key = lambda x: -x[0])\n",
    "c  # -를 부이면 역순, 즉 내림차순으로 정렬 "
   ]
  },
  {
   "cell_type": "code",
   "execution_count": 70,
   "id": "30b20e05",
   "metadata": {},
   "outputs": [
    {
     "data": {
      "text/plain": [
       "[(3, 0), (5, 1), (0, 1), (1, 2), (5, 2)]"
      ]
     },
     "execution_count": 70,
     "metadata": {},
     "output_type": "execute_result"
    }
   ],
   "source": [
    "d = sorted(a, key = lambda x:x[1])\n",
    "d"
   ]
  },
  {
   "cell_type": "code",
   "execution_count": null,
   "id": "be4c977c",
   "metadata": {},
   "outputs": [],
   "source": []
  }
 ],
 "metadata": {
  "kernelspec": {
   "display_name": "Python 3",
   "language": "python",
   "name": "python3"
  },
  "language_info": {
   "codemirror_mode": {
    "name": "ipython",
    "version": 3
   },
   "file_extension": ".py",
   "mimetype": "text/x-python",
   "name": "python",
   "nbconvert_exporter": "python",
   "pygments_lexer": "ipython3",
   "version": "3.8.8"
  }
 },
 "nbformat": 4,
 "nbformat_minor": 5
}

{
 "cells": [
  {
   "cell_type": "code",
   "execution_count": 86,
   "id": "2123c04c",
   "metadata": {},
   "outputs": [
    {
     "name": "stdout",
     "output_type": "stream",
     "text": [
      "24\n",
      "244944\n"
     ]
    }
   ],
   "source": [
    "# 최대 곱 구하기 \n",
    "def max_product(card_lists):\n",
    "    mul = 1\n",
    "    for card in card_lists:\n",
    "        mul = mul * max(card)\n",
    "    return mul\n",
    "        \n",
    "\n",
    "test_cards1 = [[1, 6, 5], [4, 2, 3]]\n",
    "print(max_product(test_cards1))\n",
    "\n",
    "test_cards2 = [[9, 7, 8], [9, 2, 3], [9, 8, 1], [2, 8, 3], [1, 3, 6], [7, 7, 4]]\n",
    "print(max_product(test_cards2))"
   ]
  },
  {
   "cell_type": "code",
   "execution_count": 84,
   "id": "e3dc5af9",
   "metadata": {},
   "outputs": [],
   "source": [
    "\n",
    "            \n",
    "      \n",
    "     "
   ]
  },
  {
   "cell_type": "code",
   "execution_count": null,
   "id": "c9fa60fe",
   "metadata": {},
   "outputs": [],
   "source": []
  },
  {
   "cell_type": "code",
   "execution_count": null,
   "id": "5e008b5b",
   "metadata": {},
   "outputs": [],
   "source": []
  }
 ],
 "metadata": {
  "kernelspec": {
   "display_name": "Python 3",
   "language": "python",
   "name": "python3"
  },
  "language_info": {
   "codemirror_mode": {
    "name": "ipython",
    "version": 3
   },
   "file_extension": ".py",
   "mimetype": "text/x-python",
   "name": "python",
   "nbconvert_exporter": "python",
   "pygments_lexer": "ipython3",
   "version": "3.8.8"
  }
 },
 "nbformat": 4,
 "nbformat_minor": 5
}

{
 "cells": [
  {
   "cell_type": "code",
   "execution_count": 68,
   "id": "db54aed3",
   "metadata": {},
   "outputs": [
    {
     "data": {
      "text/plain": [
       "7"
      ]
     },
     "execution_count": 68,
     "metadata": {},
     "output_type": "execute_result"
    }
   ],
   "source": [
    "# 3진법 되지기 \n",
    "\n",
    "def solution(n):\n",
    "    answer = \"\"\n",
    "    while n > 0:\n",
    "        n, r = divmod(n,3) \n",
    "        # divmod(45, 3) >> 15, 0\n",
    "        # divmod(15,3) >> 5, 0 \n",
    "        # divmod(5,3) >> 1,2\n",
    "        # divmod(1,3) >> 0,1\n",
    "        answer = answer + str(r)\n",
    "        \n",
    "    return int(answer,3)         \n",
    "    "
   ]
  },
  {
   "cell_type": "code",
   "execution_count": null,
   "id": "10c4ee3f",
   "metadata": {},
   "outputs": [],
   "source": []
  }
 ],
 "metadata": {
  "kernelspec": {
   "display_name": "Python 3",
   "language": "python",
   "name": "python3"
  },
  "language_info": {
   "codemirror_mode": {
    "name": "ipython",
    "version": 3
   },
   "file_extension": ".py",
   "mimetype": "text/x-python",
   "name": "python",
   "nbconvert_exporter": "python",
   "pygments_lexer": "ipython3",
   "version": "3.8.8"
  }
 },
 "nbformat": 4,
 "nbformat_minor": 5
}

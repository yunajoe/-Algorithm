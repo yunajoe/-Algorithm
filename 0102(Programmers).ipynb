{
 "cells": [
  {
   "cell_type": "code",
   "execution_count": 13,
   "id": "ec509497",
   "metadata": {},
   "outputs": [
    {
     "name": "stdout",
     "output_type": "stream",
     "text": [
      "9\n"
     ]
    }
   ],
   "source": [
    "# 음양더하기 \n",
    "\n",
    "def solution(absolutes, signs):\n",
    "    answer = 0\n",
    "    for i in range(len(absolutes)):\n",
    "        if signs[i] == True:\n",
    "            num = absolutes[i]\n",
    "        else:\n",
    "            num = - absolutes[i]\n",
    "        answer = answer + num\n",
    "    return answer\n",
    "    \n",
    "    \n",
    "\n"
   ]
  },
  {
   "cell_type": "code",
   "execution_count": null,
   "id": "13921b57",
   "metadata": {},
   "outputs": [],
   "source": [
    "absolutes\tsigns\tresult\n",
    "[4,7,12]\t[true,false,true]\t9\n",
    "[1,2,3]\t[false,false,true]\t0"
   ]
  },
  {
   "cell_type": "code",
   "execution_count": 22,
   "id": "2c0bddb3",
   "metadata": {},
   "outputs": [],
   "source": [
    "# 없는숫자 더하기 \n",
    "def solution(numbers):\n",
    "    compared = [0,1,2,3,4,5,6,7,8,9]\n",
    "    \n",
    "    sum = 0 \n",
    "    answer = 45\n",
    "    for i in range(len(numbers)):\n",
    "        if numbers[i] in compared:\n",
    "            sum = sum + numbers[i]\n",
    "    answer = answer - sum\n",
    "    \n",
    "    return answer\n",
    "       \n",
    "        \n",
    "        "
   ]
  },
  {
   "cell_type": "code",
   "execution_count": null,
   "id": "d3ceefb7",
   "metadata": {},
   "outputs": [],
   "source": [
    "numbers            result\n",
    "[1,2,3,4,6,7,8,0]    14\n",
    "[5,8,4,0,6,7,9]       6"
   ]
  },
  {
   "cell_type": "code",
   "execution_count": 69,
   "id": "9d1e9b45",
   "metadata": {},
   "outputs": [
    {
     "name": "stdout",
     "output_type": "stream",
     "text": [
      "2\n",
      "2\n",
      "1\n"
     ]
    }
   ],
   "source": [
    "# 모의고사  (1)\n",
    "\n",
    "# 단순희 p1,p2,p3가 답을 맞힌 갯수만 구했다. 실패!!! \n",
    "answer = [1,3,2,4,2]\n",
    "p1 = [1, 2, 3, 4, 5]\n",
    "p2 = [2, 1, 2, 3, 2, 4, 2, 5]\n",
    "p3 = [3, 3, 1, 1, 2, 2, 4, 4, 5, 5]\n",
    "\n",
    "p1_list = []\n",
    "p2_list = []\n",
    "p3_list = []\n",
    "for i in range(len(answer)):\n",
    "    if p1[i] == answer[i]:\n",
    "        p1_list.append(p1[i])\n",
    "        num1 = len(p1_list)\n",
    "    elif p2[i] == answer[i]:\n",
    "        p2_list.append(p2[i])\n",
    "        num2 = len(p2_list)\n",
    "    elif p3[i] == answer[i]:\n",
    "        p3_list.append(p3[i])\n",
    "        num3 = len(p3_list)\n",
    "        \n",
    "\n",
    "\n",
    "\n",
    "        \n",
    " \n"
   ]
  },
  {
   "cell_type": "code",
   "execution_count": 91,
   "id": "c20d80d3",
   "metadata": {},
   "outputs": [
    {
     "name": "stdout",
     "output_type": "stream",
     "text": [
      "1\n",
      "2\n",
      "3\n"
     ]
    }
   ],
   "source": [
    "\n",
    "# 모의고사  (2)  실패!!\n",
    "answer = [1,3,2,4,2]\n",
    "p1 = [1, 2, 3, 4, 5]\n",
    "p2 = [2, 1, 2, 3, 2, 4, 2, 5]\n",
    "p3 = [3, 3, 1, 1, 2, 2, 4, 4, 5, 5]\n",
    "score = [0,0,0]\n",
    "\n",
    "for i,x in enumerate(answer):    \n",
    "    if x == p1[i]: # 0,1,2,3,4,5   # x 값과 p1[i] 같으면 \n",
    "        score[0] = score[0] + 1 \n",
    "        \n",
    "    if x == p2[i]:\n",
    "        score[1] = score[1] + 1\n",
    "        \n",
    "    if x == p3[i]:\n",
    "        score[2] = score[2] + 1\n",
    "\n",
    "num = sorted(score)\n",
    "        \n",
    "for idx, y in enumerate(num, start=1):\n",
    "    print(idx)\n",
    "   \n",
    "    \n",
    "\n",
    "\n",
    "        \n",
    "\n",
    "\n",
    "        \n",
    "        \n",
    "        \n",
    "        \n",
    "    \n",
    "    "
   ]
  },
  {
   "cell_type": "code",
   "execution_count": null,
   "id": "d003fa1e",
   "metadata": {},
   "outputs": [],
   "source": []
  }
 ],
 "metadata": {
  "kernelspec": {
   "display_name": "Python 3",
   "language": "python",
   "name": "python3"
  },
  "language_info": {
   "codemirror_mode": {
    "name": "ipython",
    "version": 3
   },
   "file_extension": ".py",
   "mimetype": "text/x-python",
   "name": "python",
   "nbconvert_exporter": "python",
   "pygments_lexer": "ipython3",
   "version": "3.8.8"
  }
 },
 "nbformat": 4,
 "nbformat_minor": 5
}

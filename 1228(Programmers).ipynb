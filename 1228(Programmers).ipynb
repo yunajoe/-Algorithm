{
 "cells": [
  {
   "cell_type": "code",
   "execution_count": null,
   "id": "7ef3581d",
   "metadata": {},
   "outputs": [],
   "source": [
    "# 나머지가 1이 되는 수 찾기 \n",
    "\n",
    "def solution(n):       \n",
    "    answer = []\n",
    "    for x in range(1,n):\n",
    "        if n % x == 1:\n",
    "            answer.append(x)\n",
    "    answer = min(answer)            \n",
    "    return answer"
   ]
  },
  {
   "cell_type": "code",
   "execution_count": null,
   "id": "94f67c9d",
   "metadata": {},
   "outputs": [],
   "source": [
    "n   result\n",
    "10  3\n",
    "12  11"
   ]
  },
  {
   "cell_type": "code",
   "execution_count": null,
   "id": "d615708d",
   "metadata": {},
   "outputs": [],
   "source": [
    "# 부족한 금액 계산하기 \n",
    "\n",
    "# money > 이용료 이면 0 을 리턴 \n",
    "# money < 이용료 이면 얼마가 모자라는지?\n",
    "# 이용료 계산은?\n",
    "# price + price *2 + price...* 3 (count 수 만큼)\n",
    "\n",
    "\n",
    "def solution(price, money, count):\n",
    "    sum = 0\n",
    "    for i in range(1, count+1):\n",
    "        sum = sum + (i * price)\n",
    "    result = sum - money\n",
    "    if result <= 0:\n",
    "        result = 0\n",
    "    \n",
    "\n",
    "    \n",
    "    \n",
    "\n",
    "    return result"
   ]
  },
  {
   "cell_type": "code",
   "execution_count": null,
   "id": "bb4f2e21",
   "metadata": {},
   "outputs": [],
   "source": [
    "입력값 〉   3, 20, 4\n",
    "기댓값 〉   10"
   ]
  }
 ],
 "metadata": {
  "kernelspec": {
   "display_name": "Python 3",
   "language": "python",
   "name": "python3"
  },
  "language_info": {
   "codemirror_mode": {
    "name": "ipython",
    "version": 3
   },
   "file_extension": ".py",
   "mimetype": "text/x-python",
   "name": "python",
   "nbconvert_exporter": "python",
   "pygments_lexer": "ipython3",
   "version": "3.8.8"
  }
 },
 "nbformat": 4,
 "nbformat_minor": 5
}

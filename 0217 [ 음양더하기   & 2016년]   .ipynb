{
 "cells": [
  {
   "cell_type": "code",
   "execution_count": null,
   "id": "0adf98d9",
   "metadata": {},
   "outputs": [],
   "source": [
    "# 음양더하기 \n",
    "\n",
    "def solution(absolutes, signs):\n",
    "    answer = 0\n",
    "    for i in range(len(absolutes)):\n",
    "        if signs[i] == True:\n",
    "            answer = answer + absolutes[i]\n",
    "        if signs[i] == False:\n",
    "            answer = answer - absolutes[i]\n",
    "            \n",
    "    return answer"
   ]
  },
  {
   "cell_type": "code",
   "execution_count": null,
   "id": "a0214f8c",
   "metadata": {},
   "outputs": [],
   "source": [
    "# 2016년\n",
    "def solution(a,b):\n",
    "    days = [\"FRI\",\"SAT\",\"SUN\",\"MON\",\"TUE\",\"WED\",\"THU\"]\n",
    "    months = [31, 29, 31, 30, 31, 30, 31, 31, 30, 31, 30, 31]\n",
    "    answer = ''\n",
    "    for i in range(len(months)):\n",
    "        total = months[:a-1] \n",
    "        total = (sum(total) + b) % 7\n",
    "    answer = answer + days[total-1]\n",
    "    return answer\n",
    "        \n"
   ]
  },
  {
   "cell_type": "code",
   "execution_count": null,
   "id": "b64ea615",
   "metadata": {},
   "outputs": [],
   "source": []
  }
 ],
 "metadata": {
  "kernelspec": {
   "display_name": "Python 3",
   "language": "python",
   "name": "python3"
  },
  "language_info": {
   "codemirror_mode": {
    "name": "ipython",
    "version": 3
   },
   "file_extension": ".py",
   "mimetype": "text/x-python",
   "name": "python",
   "nbconvert_exporter": "python",
   "pygments_lexer": "ipython3",
   "version": "3.8.8"
  }
 },
 "nbformat": 4,
 "nbformat_minor": 5
}

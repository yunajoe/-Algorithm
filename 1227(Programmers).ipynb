{
 "cells": [
  {
   "cell_type": "code",
   "execution_count": null,
   "id": "0e7db87a",
   "metadata": {},
   "outputs": [],
   "source": [
    "#시저 암호 풀기"
   ]
  },
  {
   "cell_type": "code",
   "execution_count": null,
   "id": "feadc32c",
   "metadata": {},
   "outputs": [],
   "source": [
    "# 아스키코드(ascii) \n",
    "# American Standard Code for Information Interchange >> 미국의 정보교환 부호\n",
    "# 대문자 65~ 90 소문자는 97~ 122"
   ]
  },
  {
   "cell_type": "code",
   "execution_count": 13,
   "id": "75fe9bd9",
   "metadata": {},
   "outputs": [
    {
     "data": {
      "text/plain": [
       "98"
      ]
     },
     "execution_count": 13,
     "metadata": {},
     "output_type": "execute_result"
    }
   ],
   "source": [
    "ord('a')  # 문자 > 숫자\n",
    "ord(\"b\")"
   ]
  },
  {
   "cell_type": "code",
   "execution_count": 49,
   "id": "8237112c",
   "metadata": {},
   "outputs": [
    {
     "data": {
      "text/plain": [
       "65"
      ]
     },
     "execution_count": 49,
     "metadata": {},
     "output_type": "execute_result"
    }
   ],
   "source": [
    "ord(\"A\")"
   ]
  },
  {
   "cell_type": "code",
   "execution_count": 23,
   "id": "094535b7",
   "metadata": {},
   "outputs": [
    {
     "data": {
      "text/plain": [
       "'B'"
      ]
     },
     "execution_count": 23,
     "metadata": {},
     "output_type": "execute_result"
    }
   ],
   "source": [
    "chr(65)  # 숫자 > 문자 \n",
    "chr(66)"
   ]
  },
  {
   "cell_type": "code",
   "execution_count": 48,
   "id": "5e5a5fc1",
   "metadata": {},
   "outputs": [
    {
     "name": "stdout",
     "output_type": "stream",
     "text": [
      "BCDEF"
     ]
    }
   ],
   "source": [
    "## 실패..........!!!!!!!!!\n",
    "## 단순히 문자 갯수만을 생각했다...ABCBD 라고 하면은 BCDCE  나와야하는데 문자 자체를 고려하지 않으니 , BCDEF 가 나왔다. 이런 \n",
    "n = 1\n",
    "i = 65\n",
    "j = 97\n",
    "answer = \"ABCBD\"\n",
    "\n",
    "if answer.isupper() == True:  # 문자열이 대문자일경우 \n",
    "    for n in range(0,len(answer)):  # 나타내는 범위는 문자열의 크기만큼\n",
    "        n = i  # i (65) == n(0)   왜냐하면은 아스키코드는 65부터 대문자가 시작하기 떄문!\n",
    "        answer = chr(n+1)  # 한개씩 숫자를 밀어서 문자를 나타내야하기 때문에 chr(n+1) 이라 한다. \n",
    "        print(answer, end = \"\")   #  chr(0)은 \"A\"\n",
    "        i = i + 1  # i가 65부터.. 시작해서 +1 씩 증가하는걸로\n",
    "        \n",
    "elif answer.islower() == True: \n",
    "    for n in range(0,len(answer)):\n",
    "        n = j # j(97) == n(0) 아스키코드 97부터 소문자가 시작한다. \n",
    "        answer = chr(n+1) \n",
    "        print(answer, end = \"\")\n",
    "        j = j+1\n",
    "\n",
    "        \n",
    "    \n",
    "        \n",
    "        \n",
    "    \n",
    "\n",
    "        \n",
    "    "
   ]
  },
  {
   "cell_type": "code",
   "execution_count": 115,
   "id": "70247362",
   "metadata": {},
   "outputs": [
    {
     "ename": "SyntaxError",
     "evalue": "invalid syntax (<ipython-input-115-cb05a9c88923>, line 23)",
     "output_type": "error",
     "traceback": [
      "\u001b[1;36m  File \u001b[1;32m\"<ipython-input-115-cb05a9c88923>\"\u001b[1;36m, line \u001b[1;32m23\u001b[0m\n\u001b[1;33m    else s[i].\\s()\u001b[0m\n\u001b[1;37m         ^\u001b[0m\n\u001b[1;31mSyntaxError\u001b[0m\u001b[1;31m:\u001b[0m invalid syntax\n"
     ]
    }
   ],
   "source": [
    "# ord(문자)  >> 문자를 숫자로.\n",
    "# chr(숫자)  >> 숫자를 문자로.\n",
    "\n",
    "# list로 해 준 이유는 단어가 아니라 한글자 한글자 봐야하기 때문이다. \n",
    "# 문자열로 보면은 단어로 인식하기 때문에  소문자와 대문자가 섞였을 경우 \n",
    "\n",
    "s = \"Aba  z\" # 숫자로는 90\n",
    "n = 1\n",
    "def ceasar(s, n):   \n",
    "     s = list(s)\n",
    "for i in range(len(s)):\n",
    "    #  print(s[i])\n",
    "    if s[i].isupper() == True:\n",
    "        num = (ord(s[i])- ord(\"A\")+ n) % 26 + ord(\"A\")\n",
    "        answer = chr(num)\n",
    "        print(answer, end = \"\")        \n",
    "      \n",
    "    elif s[i].islower() == True:\n",
    "        num = (ord(s[i]) - ord(\"a\") + n) % 26 + ord(\"a\")\n",
    "        answer = chr(num)\n",
    "        print(answer, end = \"\")\n",
    "        \n",
    "    else s[i].\\s()\n",
    "        num = (ord(s[i]) - ord(\"\\s\") + n) % 26 + ord(\"\\s\")\n",
    "        answer = chr(num)\n",
    "        print(answer, end = \"\")\n",
    "        \n",
    "        \n",
    " # 공백을..처리하지 못하겠다.ㅠㅠㅠㅠ \n",
    "        \n",
    "        \n",
    "        \n",
    "\n",
    "        "
   ]
  },
  {
   "cell_type": "code",
   "execution_count": null,
   "id": "2a6d0767",
   "metadata": {},
   "outputs": [],
   "source": []
  },
  {
   "cell_type": "code",
   "execution_count": null,
   "id": "65307ad2",
   "metadata": {},
   "outputs": [],
   "source": []
  }
 ],
 "metadata": {
  "kernelspec": {
   "display_name": "Python 3",
   "language": "python",
   "name": "python3"
  },
  "language_info": {
   "codemirror_mode": {
    "name": "ipython",
    "version": 3
   },
   "file_extension": ".py",
   "mimetype": "text/x-python",
   "name": "python",
   "nbconvert_exporter": "python",
   "pygments_lexer": "ipython3",
   "version": "3.8.8"
  }
 },
 "nbformat": 4,
 "nbformat_minor": 5
}

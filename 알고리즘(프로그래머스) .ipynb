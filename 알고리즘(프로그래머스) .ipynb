{
 "cells": [
  {
   "cell_type": "code",
   "execution_count": 17,
   "id": "7e11a7d7",
   "metadata": {},
   "outputs": [],
   "source": [
    "# 평균 구하기\n",
    "\n",
    "def solution(arr):\n",
    "    answer = 0\n",
    "    \n",
    "    for i in range(len(arr)):\n",
    "        answer = answer + arr[i]\n",
    "    answer = answer / len(arr)\n",
    "        \n",
    "\n",
    "    return answer"
   ]
  },
  {
   "cell_type": "code",
   "execution_count": null,
   "id": "f3a9cf01",
   "metadata": {},
   "outputs": [],
   "source": [
    "[1,2,3,4] >> 2.5\n",
    "[5,5] >>  5"
   ]
  },
  {
   "cell_type": "code",
   "execution_count": null,
   "id": "ef018c1d",
   "metadata": {},
   "outputs": [],
   "source": [
    "# x만큼 간격이 있는 n개의 숫자\n",
    "\n",
    "def solution(x, n):\n",
    "    answer = []\n",
    "    for i in range(1, n+1):\n",
    "        answer.append(x*i)\n",
    "    return answer"
   ]
  },
  {
   "cell_type": "code",
   "execution_count": null,
   "id": "111d514c",
   "metadata": {},
   "outputs": [],
   "source": [
    "2 5 [2,4,6,8,10]\n",
    "4 3 [4,8,12]\n",
    "4 2 [-4, -8]"
   ]
  }
 ],
 "metadata": {
  "kernelspec": {
   "display_name": "Python 3",
   "language": "python",
   "name": "python3"
  },
  "language_info": {
   "codemirror_mode": {
    "name": "ipython",
    "version": 3
   },
   "file_extension": ".py",
   "mimetype": "text/x-python",
   "name": "python",
   "nbconvert_exporter": "python",
   "pygments_lexer": "ipython3",
   "version": "3.8.8"
  }
 },
 "nbformat": 4,
 "nbformat_minor": 5
}

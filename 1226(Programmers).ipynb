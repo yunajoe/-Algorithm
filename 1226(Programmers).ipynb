{
 "cells": [
  {
   "cell_type": "code",
   "execution_count": null,
   "id": "4f14a7d4",
   "metadata": {},
   "outputs": [],
   "source": [
    "# 문자열 내림차순으로 배치하기\n",
    "\n",
    "# 영어는 small 이 captial 보다 큰 것이므로 reverse를 하면은 소문자, small letter가 먼저 온다! \n",
    "def solution(s):\n",
    "    answer = ''\n",
    "    new_s = sorted(s, reverse = True) \n",
    "    answer = \"\".join(new_s)\n",
    "    return answer"
   ]
  },
  {
   "cell_type": "code",
   "execution_count": 17,
   "id": "948f9129",
   "metadata": {},
   "outputs": [
    {
     "name": "stdout",
     "output_type": "stream",
     "text": [
      "수박수박\n"
     ]
    }
   ],
   "source": [
    "# 수박수박수박수박수박수?\n",
    "\n",
    "# 몫을 n이라고 하고.. n이 1일경우 \"수박\" 글자는 default값 \n",
    "# n이 홀수면  +\"수\" \n",
    "def solution(n):\n",
    "    answer = ''\n",
    "    quotient = \"수박\"\n",
    "    if n % 2 == 0 :\n",
    "        num = n//2\n",
    "        answer = num * quotient\n",
    "    else:\n",
    "        num = n//2\n",
    "        answer = (num * quotient) + \"수\"\n",
    "    return answer"
   ]
  },
  {
   "cell_type": "code",
   "execution_count": null,
   "id": "0556ad8c",
   "metadata": {},
   "outputs": [],
   "source": []
  }
 ],
 "metadata": {
  "kernelspec": {
   "display_name": "Python 3",
   "language": "python",
   "name": "python3"
  },
  "language_info": {
   "codemirror_mode": {
    "name": "ipython",
    "version": 3
   },
   "file_extension": ".py",
   "mimetype": "text/x-python",
   "name": "python",
   "nbconvert_exporter": "python",
   "pygments_lexer": "ipython3",
   "version": "3.8.8"
  }
 },
 "nbformat": 4,
 "nbformat_minor": 5
}
